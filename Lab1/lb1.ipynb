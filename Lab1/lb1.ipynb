{
 "cells": [
  {
   "cell_type": "code",
   "execution_count": 1,
   "id": "aab736bf",
   "metadata": {},
   "outputs": [
    {
     "name": "stdout",
     "output_type": "stream",
     "text": [
      "<class 'pandas.core.frame.DataFrame'>\n",
      "RangeIndex: 458441 entries, 0 to 458440\n",
      "Data columns (total 5 columns):\n",
      " #   Column       Non-Null Count   Dtype\n",
      "---  ------       --------------   -----\n",
      " 0   Age          458441 non-null  int64\n",
      " 1   Gender       458441 non-null  int64\n",
      " 2   Impressions  458441 non-null  int64\n",
      " 3   Clicks       458441 non-null  int64\n",
      " 4   Signed_In    458441 non-null  int64\n",
      "dtypes: int64(5)\n",
      "memory usage: 17.5 MB\n"
     ]
    }
   ],
   "source": [
    "import pandas as pd\n",
    "\n",
    "data = pd.read_csv(\"/Users/danillepetinskiy/Desktop/Study/Data Science/Lab1/nyt1.csv\")\n",
    "data.isnull().sum()\n",
    "data.info()"
   ]
  },
  {
   "cell_type": "code",
   "execution_count": 2,
   "id": "95e7769f",
   "metadata": {},
   "outputs": [
    {
     "data": {
      "text/plain": [
       "array([ 36,  73,  30,  49,  47,   0,  46,  16,  52,  21,  57,  31,  40,\n",
       "        38,  59,  61,  48,  29,  19,  23,  66,  44,  32,  22,  74,  65,\n",
       "        63,  35,  33,  34,  43,  18,  17,  62,  27,  11,  42,  41,  14,\n",
       "        64,  24,  26,  39,  71,  45,  28,  83,  79,  67,  51,  60,  58,\n",
       "        53,  25,  50,  76,  15,  78,  55,  37,  56,  77,  85,  82,  13,\n",
       "        70,  84,  54,  20,  10,  81,  68,  72,  69,  87,  80,  88,  12,\n",
       "        86,  75,  89,   9,  96, 102,  98,  90,  99,  91,  92,  95,   8,\n",
       "        94,  93,  97,   7, 100, 103, 107, 101, 108, 104])"
      ]
     },
     "execution_count": 2,
     "metadata": {},
     "output_type": "execute_result"
    }
   ],
   "source": [
    "data.Age.unique()"
   ]
  },
  {
   "cell_type": "code",
   "execution_count": 3,
   "id": "9bf32695",
   "metadata": {},
   "outputs": [
    {
     "data": {
      "text/plain": [
       "<AxesSubplot:>"
      ]
     },
     "execution_count": 3,
     "metadata": {},
     "output_type": "execute_result"
    },
    {
     "data": {
      "image/png": "[encoded data removed]",
      "text/plain": [
       "<Figure size 640x480 with 1 Axes>"
      ]
     },
     "metadata": {},
     "output_type": "display_data"
    }
   ],
   "source": [
    "data_no_null_age = data[data.Age > 0]\n",
    "\n",
    "data_no_null_age.Age.hist()"
   ]
  },
  {
   "cell_type": "code",
   "execution_count": 4,
   "id": "579c9ed6",
   "metadata": {},
   "outputs": [
    {
     "name": "stderr",
     "output_type": "stream",
     "text": [
      "/var/folders/xk/szpk8xz97nd6f13z_h3dxwvw0000gn/T/ipykernel_10210/1456086913.py:17: SettingWithCopyWarning: \n",
      "A value is trying to be set on a copy of a slice from a DataFrame.\n",
      "Try using .loc[row_indexer,col_indexer] = value instead\n",
      "\n",
      "See the caveats in the documentation: https://pandas.pydata.org/pandas-docs/stable/user_guide/indexing.html#returning-a-view-versus-a-copy\n",
      "  data_no_null_age[\"AgeGroup\"] = data_no_null_age.Age.apply(lambda x: setAgeGroup(x))\n"
     ]
    },
    {
     "data": {
      "text/html": [
       "<div>\n",
       "<style scoped>\n",
       "    .dataframe tbody tr th:only-of-type {\n",
       "        vertical-align: middle;\n",
       "    }\n",
       "\n",
       "    .dataframe tbody tr th {\n",
       "        vertical-align: top;\n",
       "    }\n",
       "\n",
       "    .dataframe thead th {\n",
       "        text-align: right;\n",
       "    }\n",
       "</style>\n",
       "<table border=\"1\" class=\"dataframe\">\n",
       "  <thead>\n",
       "    <tr style=\"text-align: right;\">\n",
       "      <th></th>\n",
       "      <th>Age</th>\n",
       "      <th>Gender</th>\n",
       "      <th>Impressions</th>\n",
       "      <th>Clicks</th>\n",
       "      <th>Signed_In</th>\n",
       "      <th>AgeGroup</th>\n",
       "    </tr>\n",
       "  </thead>\n",
       "  <tbody>\n",
       "    <tr>\n",
       "      <th>0</th>\n",
       "      <td>36</td>\n",
       "      <td>0</td>\n",
       "      <td>3</td>\n",
       "      <td>0</td>\n",
       "      <td>1</td>\n",
       "      <td>35-44</td>\n",
       "    </tr>\n",
       "    <tr>\n",
       "      <th>1</th>\n",
       "      <td>73</td>\n",
       "      <td>1</td>\n",
       "      <td>3</td>\n",
       "      <td>0</td>\n",
       "      <td>1</td>\n",
       "      <td>65+</td>\n",
       "    </tr>\n",
       "    <tr>\n",
       "      <th>2</th>\n",
       "      <td>30</td>\n",
       "      <td>0</td>\n",
       "      <td>3</td>\n",
       "      <td>0</td>\n",
       "      <td>1</td>\n",
       "      <td>25-34</td>\n",
       "    </tr>\n",
       "    <tr>\n",
       "      <th>3</th>\n",
       "      <td>49</td>\n",
       "      <td>1</td>\n",
       "      <td>3</td>\n",
       "      <td>0</td>\n",
       "      <td>1</td>\n",
       "      <td>45-54</td>\n",
       "    </tr>\n",
       "    <tr>\n",
       "      <th>4</th>\n",
       "      <td>47</td>\n",
       "      <td>1</td>\n",
       "      <td>11</td>\n",
       "      <td>0</td>\n",
       "      <td>1</td>\n",
       "      <td>45-54</td>\n",
       "    </tr>\n",
       "    <tr>\n",
       "      <th>...</th>\n",
       "      <td>...</td>\n",
       "      <td>...</td>\n",
       "      <td>...</td>\n",
       "      <td>...</td>\n",
       "      <td>...</td>\n",
       "      <td>...</td>\n",
       "    </tr>\n",
       "    <tr>\n",
       "      <th>458432</th>\n",
       "      <td>30</td>\n",
       "      <td>0</td>\n",
       "      <td>4</td>\n",
       "      <td>0</td>\n",
       "      <td>1</td>\n",
       "      <td>25-34</td>\n",
       "    </tr>\n",
       "    <tr>\n",
       "      <th>458433</th>\n",
       "      <td>21</td>\n",
       "      <td>1</td>\n",
       "      <td>2</td>\n",
       "      <td>0</td>\n",
       "      <td>1</td>\n",
       "      <td>18-24</td>\n",
       "    </tr>\n",
       "    <tr>\n",
       "      <th>458434</th>\n",
       "      <td>61</td>\n",
       "      <td>1</td>\n",
       "      <td>6</td>\n",
       "      <td>0</td>\n",
       "      <td>1</td>\n",
       "      <td>55-64</td>\n",
       "    </tr>\n",
       "    <tr>\n",
       "      <th>458435</th>\n",
       "      <td>51</td>\n",
       "      <td>0</td>\n",
       "      <td>7</td>\n",
       "      <td>0</td>\n",
       "      <td>1</td>\n",
       "      <td>45-54</td>\n",
       "    </tr>\n",
       "    <tr>\n",
       "      <th>458438</th>\n",
       "      <td>72</td>\n",
       "      <td>1</td>\n",
       "      <td>5</td>\n",
       "      <td>0</td>\n",
       "      <td>1</td>\n",
       "      <td>65+</td>\n",
       "    </tr>\n",
       "  </tbody>\n",
       "</table>\n",
       "<p>321335 rows × 6 columns</p>\n",
       "</div>"
      ],
      "text/plain": [
       "        Age  Gender  Impressions  Clicks  Signed_In AgeGroup\n",
       "0        36       0            3       0          1    35-44\n",
       "1        73       1            3       0          1      65+\n",
       "2        30       0            3       0          1    25-34\n",
       "3        49       1            3       0          1    45-54\n",
       "4        47       1           11       0          1    45-54\n",
       "...     ...     ...          ...     ...        ...      ...\n",
       "458432   30       0            4       0          1    25-34\n",
       "458433   21       1            2       0          1    18-24\n",
       "458434   61       1            6       0          1    55-64\n",
       "458435   51       0            7       0          1    45-54\n",
       "458438   72       1            5       0          1      65+\n",
       "\n",
       "[321335 rows x 6 columns]"
      ]
     },
     "execution_count": 4,
     "metadata": {},
     "output_type": "execute_result"
    }
   ],
   "source": [
    "def setAgeGroup(age):\n",
    "    if (age < 18):\n",
    "        return \"<18\"\n",
    "    elif (age < 25):\n",
    "        return \"18-24\"\n",
    "    elif (age < 35):\n",
    "        return \"25-34\"\n",
    "    elif (age < 45):\n",
    "        return \"35-44\"\n",
    "    elif (age < 55):\n",
    "        return \"45-54\"\n",
    "    elif (age < 65):\n",
    "        return \"55-64\"\n",
    "    elif (age >= 65):\n",
    "        return \"65+\"\n",
    "\n",
    "data_no_null_age[\"AgeGroup\"] = data_no_null_age.Age.apply(lambda x: setAgeGroup(x))\n",
    "\n",
    "data_no_null_age"
   ]
  },
  {
   "cell_type": "code",
   "execution_count": 5,
   "id": "befd6e52",
   "metadata": {},
   "outputs": [
    {
     "data": {
      "text/html": [
       "<div>\n",
       "<style scoped>\n",
       "    .dataframe tbody tr th:only-of-type {\n",
       "        vertical-align: middle;\n",
       "    }\n",
       "\n",
       "    .dataframe tbody tr th {\n",
       "        vertical-align: top;\n",
       "    }\n",
       "\n",
       "    .dataframe thead th {\n",
       "        text-align: right;\n",
       "    }\n",
       "</style>\n",
       "<table border=\"1\" class=\"dataframe\">\n",
       "  <thead>\n",
       "    <tr style=\"text-align: right;\">\n",
       "      <th></th>\n",
       "      <th>Age</th>\n",
       "      <th>Impressions</th>\n",
       "      <th>Clicks</th>\n",
       "      <th>CTR</th>\n",
       "    </tr>\n",
       "    <tr>\n",
       "      <th>AgeGroup</th>\n",
       "      <th></th>\n",
       "      <th></th>\n",
       "      <th></th>\n",
       "      <th></th>\n",
       "    </tr>\n",
       "  </thead>\n",
       "  <tbody>\n",
       "    <tr>\n",
       "      <th>18-24</th>\n",
       "      <td>20.833317</td>\n",
       "      <td>5.002826</td>\n",
       "      <td>0.053251</td>\n",
       "      <td>0.010644</td>\n",
       "    </tr>\n",
       "    <tr>\n",
       "      <th>25-34</th>\n",
       "      <td>29.503352</td>\n",
       "      <td>4.993829</td>\n",
       "      <td>0.050486</td>\n",
       "      <td>0.010110</td>\n",
       "    </tr>\n",
       "    <tr>\n",
       "      <th>35-44</th>\n",
       "      <td>39.494680</td>\n",
       "      <td>5.021507</td>\n",
       "      <td>0.051679</td>\n",
       "      <td>0.010292</td>\n",
       "    </tr>\n",
       "    <tr>\n",
       "      <th>45-54</th>\n",
       "      <td>49.492580</td>\n",
       "      <td>5.010406</td>\n",
       "      <td>0.050274</td>\n",
       "      <td>0.010034</td>\n",
       "    </tr>\n",
       "    <tr>\n",
       "      <th>55-64</th>\n",
       "      <td>59.498189</td>\n",
       "      <td>5.022308</td>\n",
       "      <td>0.101837</td>\n",
       "      <td>0.020277</td>\n",
       "    </tr>\n",
       "    <tr>\n",
       "      <th>65+</th>\n",
       "      <td>72.988697</td>\n",
       "      <td>5.012347</td>\n",
       "      <td>0.151289</td>\n",
       "      <td>0.030183</td>\n",
       "    </tr>\n",
       "    <tr>\n",
       "      <th>&lt;18</th>\n",
       "      <td>15.262149</td>\n",
       "      <td>5.007159</td>\n",
       "      <td>0.149335</td>\n",
       "      <td>0.029824</td>\n",
       "    </tr>\n",
       "  </tbody>\n",
       "</table>\n",
       "</div>"
      ],
      "text/plain": [
       "                Age  Impressions    Clicks       CTR\n",
       "AgeGroup                                            \n",
       "18-24     20.833317     5.002826  0.053251  0.010644\n",
       "25-34     29.503352     4.993829  0.050486  0.010110\n",
       "35-44     39.494680     5.021507  0.051679  0.010292\n",
       "45-54     49.492580     5.010406  0.050274  0.010034\n",
       "55-64     59.498189     5.022308  0.101837  0.020277\n",
       "65+       72.988697     5.012347  0.151289  0.030183\n",
       "<18       15.262149     5.007159  0.149335  0.029824"
      ]
     },
     "execution_count": 5,
     "metadata": {},
     "output_type": "execute_result"
    }
   ],
   "source": [
    "data_sorted = data_no_null_age[[\"Age\", \"Impressions\", \"Clicks\", \"AgeGroup\"]].groupby(\"AgeGroup\").mean()\n",
    "data_sorted[\"CTR\"] = data_sorted.Clicks / data_sorted.Impressions\n",
    "data_sorted"
   ]
  },
  {
   "cell_type": "code",
   "execution_count": 6,
   "id": "69056295",
   "metadata": {},
   "outputs": [
    {
     "data": {
      "text/plain": [
       "<AxesSubplot:xlabel='AgeGroup', ylabel='CTR value'>"
      ]
     },
     "execution_count": 6,
     "metadata": {},
     "output_type": "execute_result"
    },
    {
     "data": {
      "image/png": "[encoded data removed]",
      "text/plain": [
       "<Figure size 640x480 with 1 Axes>"
      ]
     },
     "metadata": {},
     "output_type": "display_data"
    }
   ],
   "source": [
    "data_sorted.CTR.plot(kind=\"bar\", ylabel = \"CTR value\")"
   ]
  },
  {
   "cell_type": "code",
   "execution_count": 7,
   "id": "0195d94b",
   "metadata": {},
   "outputs": [
    {
     "data": {
      "text/plain": [
       "<AxesSubplot:xlabel='Gender', ylabel='amount of people'>"
      ]
     },
     "execution_count": 7,
     "metadata": {},
     "output_type": "execute_result"
    },
    {
     "data": {
      "image/png": "[encoded data removed]",
      "text/plain": [
       "<Figure size 640x480 with 1 Axes>"
      ]
     },
     "metadata": {},
     "output_type": "display_data"
    }
   ],
   "source": [
    "data_teen_genders = data_no_null_age.loc[data_no_null_age[\"AgeGroup\"] == \"<18\"].groupby(\"Gender\").count()\n",
    "data_teen_genders.AgeGroup.plot(kind=\"bar\", ylabel = \"amount of people\")"
   ]
  },
  {
   "cell_type": "code",
   "execution_count": 8,
   "id": "8586d32b",
   "metadata": {},
   "outputs": [
    {
     "data": {
      "text/plain": [
       "<AxesSubplot:xlabel='Gender', ylabel='CTR value'>"
      ]
     },
     "execution_count": 8,
     "metadata": {},
     "output_type": "execute_result"
    },
    {
     "data": {
      "image/png": "[encoded data removed]",
      "text/plain": [
       "<Figure size 640x480 with 1 Axes>"
      ]
     },
     "metadata": {},
     "output_type": "display_data"
    }
   ],
   "source": [
    "data_teen_genders = data_no_null_age.loc[data_no_null_age[\"AgeGroup\"] == \"<18\"].groupby(\"Gender\")\n",
    "CTR_teen = data_teen_genders.Clicks.sum() / data_teen_genders.Impressions.sum()\n",
    "CTR_teen.plot(kind=\"bar\", ylabel = \"CTR value\")\n",
    "        "
   ]
  },
  {
   "cell_type": "code",
   "execution_count": 9,
   "id": "d74726bb",
   "metadata": {},
   "outputs": [
    {
     "data": {
      "text/plain": [
       "<AxesSubplot:xlabel='Gender', ylabel='Impressions mean'>"
      ]
     },
     "execution_count": 9,
     "metadata": {},
     "output_type": "execute_result"
    },
    {
     "data": {
      "image/png": "[encoded data removed]",
      "text/plain": [
       "<Figure size 640x480 with 1 Axes>"
      ]
     },
     "metadata": {},
     "output_type": "display_data"
    }
   ],
   "source": [
    "data_teen_genders.Impressions.mean().plot(kind=\"bar\", ylabel = \"Impressions mean\")"
   ]
  },
  {
   "cell_type": "code",
   "execution_count": 10,
   "id": "94d93cbe",
   "metadata": {},
   "outputs": [
    {
     "data": {
      "text/plain": [
       "<AxesSubplot:xlabel='Gender', ylabel='Impressions median'>"
      ]
     },
     "execution_count": 10,
     "metadata": {},
     "output_type": "execute_result"
    },
    {
     "data": {
      "image/png": "[encoded data removed]",
      "text/plain": [
       "<Figure size 640x480 with 1 Axes>"
      ]
     },
     "metadata": {},
     "output_type": "display_data"
    }
   ],
   "source": [
    "data_teen_genders.Impressions.median().plot(kind=\"bar\", ylabel = \"Impressions median\")"
   ]
  },
  {
   "cell_type": "code",
   "execution_count": 11,
   "id": "3be1b2a5",
   "metadata": {},
   "outputs": [
    {
     "data": {
      "text/plain": [
       "<AxesSubplot:xlabel='Gender', ylabel='Impressions dispersion'>"
      ]
     },
     "execution_count": 11,
     "metadata": {},
     "output_type": "execute_result"
    },
    {
     "data": {
      "image/png": "[encoded data removed]",
      "text/plain": [
       "<Figure size 640x480 with 1 Axes>"
      ]
     },
     "metadata": {},
     "output_type": "display_data"
    }
   ],
   "source": [
    "data_teen_genders.Impressions.std().plot(kind=\"bar\", ylabel = \"Impressions dispersion\")\n",
    "\n"
   ]
  },
  {
   "cell_type": "code",
   "execution_count": 12,
   "id": "13562fe0",
   "metadata": {},
   "outputs": [
    {
     "data": {
      "text/plain": [
       "<AxesSubplot:xlabel='Gender', ylabel='Impressions maximum'>"
      ]
     },
     "execution_count": 12,
     "metadata": {},
     "output_type": "execute_result"
    },
    {
     "data": {
      "image/png": "[encoded data removed]",
      "text/plain": [
       "<Figure size 640x480 with 1 Axes>"
      ]
     },
     "metadata": {},
     "output_type": "display_data"
    }
   ],
   "source": [
    "data_teen_genders.Impressions.max().plot(kind=\"bar\", ylabel = \"Impressions maximum\")"
   ]
  },
  {
   "cell_type": "code",
   "execution_count": 13,
   "id": "1bff583c",
   "metadata": {},
   "outputs": [
    {
     "data": {
      "text/html": [
       "<div>\n",
       "<style scoped>\n",
       "    .dataframe tbody tr th:only-of-type {\n",
       "        vertical-align: middle;\n",
       "    }\n",
       "\n",
       "    .dataframe tbody tr th {\n",
       "        vertical-align: top;\n",
       "    }\n",
       "\n",
       "    .dataframe thead th {\n",
       "        text-align: right;\n",
       "    }\n",
       "</style>\n",
       "<table border=\"1\" class=\"dataframe\">\n",
       "  <thead>\n",
       "    <tr style=\"text-align: right;\">\n",
       "      <th></th>\n",
       "      <th>Mean Impressions</th>\n",
       "      <th>CTR</th>\n",
       "      <th>Impressions quantile</th>\n",
       "      <th>Median Impressions</th>\n",
       "      <th>Max Impressions</th>\n",
       "      <th>Dispersion Impressions</th>\n",
       "      <th>Dispersion Clicks</th>\n",
       "    </tr>\n",
       "    <tr>\n",
       "      <th>AgeGroup</th>\n",
       "      <th></th>\n",
       "      <th></th>\n",
       "      <th></th>\n",
       "      <th></th>\n",
       "      <th></th>\n",
       "      <th></th>\n",
       "      <th></th>\n",
       "    </tr>\n",
       "  </thead>\n",
       "  <tbody>\n",
       "    <tr>\n",
       "      <th>18-24</th>\n",
       "      <td>5.002826</td>\n",
       "      <td>0.010644</td>\n",
       "      <td>6.0</td>\n",
       "      <td>5.0</td>\n",
       "      <td>17</td>\n",
       "      <td>2.244950</td>\n",
       "      <td>0.231010</td>\n",
       "    </tr>\n",
       "    <tr>\n",
       "      <th>25-34</th>\n",
       "      <td>4.993829</td>\n",
       "      <td>0.010110</td>\n",
       "      <td>6.0</td>\n",
       "      <td>5.0</td>\n",
       "      <td>17</td>\n",
       "      <td>2.226877</td>\n",
       "      <td>0.224147</td>\n",
       "    </tr>\n",
       "    <tr>\n",
       "      <th>35-44</th>\n",
       "      <td>5.021507</td>\n",
       "      <td>0.010292</td>\n",
       "      <td>6.0</td>\n",
       "      <td>5.0</td>\n",
       "      <td>20</td>\n",
       "      <td>2.237829</td>\n",
       "      <td>0.225861</td>\n",
       "    </tr>\n",
       "    <tr>\n",
       "      <th>45-54</th>\n",
       "      <td>5.010406</td>\n",
       "      <td>0.010034</td>\n",
       "      <td>6.0</td>\n",
       "      <td>5.0</td>\n",
       "      <td>17</td>\n",
       "      <td>2.240790</td>\n",
       "      <td>0.225034</td>\n",
       "    </tr>\n",
       "    <tr>\n",
       "      <th>55-64</th>\n",
       "      <td>5.022308</td>\n",
       "      <td>0.020277</td>\n",
       "      <td>6.0</td>\n",
       "      <td>5.0</td>\n",
       "      <td>16</td>\n",
       "      <td>2.230206</td>\n",
       "      <td>0.318704</td>\n",
       "    </tr>\n",
       "    <tr>\n",
       "      <th>65+</th>\n",
       "      <td>5.012347</td>\n",
       "      <td>0.030183</td>\n",
       "      <td>6.0</td>\n",
       "      <td>5.0</td>\n",
       "      <td>16</td>\n",
       "      <td>2.249162</td>\n",
       "      <td>0.384373</td>\n",
       "    </tr>\n",
       "    <tr>\n",
       "      <th>&lt;18</th>\n",
       "      <td>5.007159</td>\n",
       "      <td>0.029824</td>\n",
       "      <td>6.0</td>\n",
       "      <td>5.0</td>\n",
       "      <td>16</td>\n",
       "      <td>2.271897</td>\n",
       "      <td>0.383411</td>\n",
       "    </tr>\n",
       "  </tbody>\n",
       "</table>\n",
       "</div>"
      ],
      "text/plain": [
       "          Mean Impressions       CTR  Impressions quantile  \\\n",
       "AgeGroup                                                     \n",
       "18-24             5.002826  0.010644                   6.0   \n",
       "25-34             4.993829  0.010110                   6.0   \n",
       "35-44             5.021507  0.010292                   6.0   \n",
       "45-54             5.010406  0.010034                   6.0   \n",
       "55-64             5.022308  0.020277                   6.0   \n",
       "65+               5.012347  0.030183                   6.0   \n",
       "<18               5.007159  0.029824                   6.0   \n",
       "\n",
       "          Median Impressions  Max Impressions  Dispersion Impressions  \\\n",
       "AgeGroup                                                                \n",
       "18-24                    5.0               17                2.244950   \n",
       "25-34                    5.0               17                2.226877   \n",
       "35-44                    5.0               20                2.237829   \n",
       "45-54                    5.0               17                2.240790   \n",
       "55-64                    5.0               16                2.230206   \n",
       "65+                      5.0               16                2.249162   \n",
       "<18                      5.0               16                2.271897   \n",
       "\n",
       "          Dispersion Clicks  \n",
       "AgeGroup                     \n",
       "18-24              0.231010  \n",
       "25-34              0.224147  \n",
       "35-44              0.225861  \n",
       "45-54              0.225034  \n",
       "55-64              0.318704  \n",
       "65+                0.384373  \n",
       "<18                0.383411  "
      ]
     },
     "execution_count": 13,
     "metadata": {},
     "output_type": "execute_result"
    }
   ],
   "source": [
    "final_data_frame = data_sorted.Impressions.to_frame()\n",
    "final_data_frame.rename(columns={\"Impressions\": \"Mean Impressions\"}, inplace=True)\n",
    "final_data_frame[\"CTR\"] = data_sorted[\"CTR\"]\n",
    "final_data_frame[\"Impressions quantile\"] = data_no_null_age[[\"Age\", \"Impressions\", \"Clicks\", \"AgeGroup\"]].groupby(\"AgeGroup\").Impressions.quantile(0.7)\n",
    "final_data_frame[\"Median Impressions\"] = data_no_null_age[[\"Age\", \"Impressions\", \"Clicks\", \"AgeGroup\"]].groupby(\"AgeGroup\").Impressions.median()\n",
    "final_data_frame[\"Max Impressions\"] = data_no_null_age[[\"Age\", \"Impressions\", \"Clicks\", \"AgeGroup\"]].groupby(\"AgeGroup\").Impressions.max()\n",
    "final_data_frame[\"Dispersion Impressions\"] = data_no_null_age[[\"Age\", \"Impressions\", \"Clicks\", \"AgeGroup\"]].groupby(\"AgeGroup\").Impressions.std()\n",
    "final_data_frame[\"Dispersion Clicks\"] = data_no_null_age[[\"Age\", \"Impressions\", \"Clicks\", \"AgeGroup\"]].groupby(\"AgeGroup\").Clicks.std()\n",
    "final_data_frame"
   ]
  }
 ],
 "metadata": {
  "kernelspec": {
   "display_name": "Python 3.10.4 ('sales')",
   "language": "python",
   "name": "python3"
  },
  "language_info": {
   "codemirror_mode": {
    "name": "ipython",
    "version": 3
   },
   "file_extension": ".py",
   "mimetype": "text/x-python",
   "name": "python",
   "nbconvert_exporter": "python",
   "pygments_lexer": "ipython3",
   "version": "3.10.4"
  },
  "vscode": {
   "interpreter": {
    "hash": "092866d2aa54987ca2a97a56dbcb4fc10bef55c47d45aef7d4e331d69e67610b"
   }
  }
 },
 "nbformat": 4,
 "nbformat_minor": 5
}
